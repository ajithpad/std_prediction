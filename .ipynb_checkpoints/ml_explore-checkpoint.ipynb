{
 "cells": [
  {
   "cell_type": "code",
   "execution_count": 2,
   "metadata": {
    "collapsed": false
   },
   "outputs": [
    {
     "name": "stdout",
     "output_type": "stream",
     "text": [
      "[ 4.  4.  8.]\n",
      "S55    8\n",
      "S74    4\n",
      "S27    8\n",
      "Name: Q15, dtype: float64\n",
      "0.795238095238\n",
      "0.148074374583\n"
     ]
    }
   ],
   "source": [
    "# -*- coding: utf-8 -*-\n",
    "\"\"\"\n",
    "Created on Fri May 13 17:08:09 2016\n",
    "\n",
    "@author: ajith\n",
    "\"\"\"\n",
    "\n",
    "import pandas as pd\n",
    "import pylab as pl\n",
    "import seaborn as sbn\n",
    "import numpy as np\n",
    "from sklearn import tree\n",
    "import random\n",
    "from sklearn import cross_validation\n",
    "\n",
    "#Data directory\n",
    "#data_path = '/Users/ajith/bigdata/data/'\n",
    "\n",
    "#Open file\n",
    "excel_val = pd.read_excel('condom_study.xlsx')\n",
    "\n",
    "#To keep Q15 as the target remove answers that does not say 4 or 8\n",
    "\n",
    "excel_val_15 = excel_val[np.logical_or(excel_val['Q15']==4,excel_val['Q15']==8)]\n",
    "\n",
    "#Remove ids for testing\n",
    "test_idx = random.sample(range(76),3)\n",
    "\n",
    "train_val = excel_val_15.drop(excel_val_15.index[test_idx])\n",
    "train_target = train_val['Q15']\n",
    "train_data = train_val.ix[:,:4]\n",
    "\n",
    "clf = tree.DecisionTreeClassifier()\n",
    "clf = clf.fit(train_data,train_target)\n",
    "\n",
    "test_val = excel_val_15.iloc[test_idx]\n",
    "test_target = test_val['Q15']\n",
    "test_data = test_val.ix[:,:4]\n",
    "\n",
    "scores = cross_validation.cross_val_score(clf, train_data, train_target, cv = 10)\n",
    "\n",
    "print clf.predict(test_data)\n",
    "print test_target\n",
    "print scores.mean()\n",
    "print scores.std()\n",
    "\n"
   ]
  },
  {
   "cell_type": "code",
   "execution_count": null,
   "metadata": {
    "collapsed": true
   },
   "outputs": [],
   "source": []
  }
 ],
 "metadata": {
  "kernelspec": {
   "display_name": "Python 2",
   "language": "python",
   "name": "python2"
  },
  "language_info": {
   "codemirror_mode": {
    "name": "ipython",
    "version": 2
   },
   "file_extension": ".py",
   "mimetype": "text/x-python",
   "name": "python",
   "nbconvert_exporter": "python",
   "pygments_lexer": "ipython2",
   "version": "2.7.11"
  }
 },
 "nbformat": 4,
 "nbformat_minor": 0
}
